{
 "cells": [
  {
   "cell_type": "code",
   "execution_count": 1,
   "id": "12e76067-a2e0-4aa2-a319-57b91d7340ef",
   "metadata": {},
   "outputs": [],
   "source": [
    "import pandas as pd\n",
    "import random\n",
    "import numpy as np\n",
    "from sklearn.preprocessing import StandardScaler\n",
    "import matplotlib.pyplot as plt"
   ]
  },
  {
   "cell_type": "markdown",
   "id": "68b0f648-47d2-4277-9ba0-708f492f7166",
   "metadata": {},
   "source": [
    "### Importando os dados da nossa tabela"
   ]
  },
  {
   "cell_type": "code",
   "execution_count": 2,
   "id": "f3142cf0-26be-4d1a-a5d9-6b67b104714b",
   "metadata": {},
   "outputs": [],
   "source": [
    "file = ('Tabela_QM9_Termodinamica.xlsx')\n",
    "df = pd.read_excel(file, header=0, usecols=[0, 7, 8, 9])"
   ]
  },
  {
   "cell_type": "code",
   "execution_count": 3,
   "id": "eb4c81c8-8f03-4023-8760-a7305e0319f8",
   "metadata": {},
   "outputs": [
    {
     "data": {
      "text/html": [
       "<div>\n",
       "<style scoped>\n",
       "    .dataframe tbody tr th:only-of-type {\n",
       "        vertical-align: middle;\n",
       "    }\n",
       "\n",
       "    .dataframe tbody tr th {\n",
       "        vertical-align: top;\n",
       "    }\n",
       "\n",
       "    .dataframe thead th {\n",
       "        text-align: right;\n",
       "    }\n",
       "</style>\n",
       "<table border=\"1\" class=\"dataframe\">\n",
       "  <thead>\n",
       "    <tr style=\"text-align: right;\">\n",
       "      <th></th>\n",
       "      <th>Fórmula</th>\n",
       "      <th>Smiles</th>\n",
       "      <th>Massa Molar (g/mol)</th>\n",
       "      <th>Entalpia de Combustão (kcal/mol)</th>\n",
       "    </tr>\n",
       "  </thead>\n",
       "  <tbody>\n",
       "    <tr>\n",
       "      <th>0</th>\n",
       "      <td>CH4</td>\n",
       "      <td>C</td>\n",
       "      <td>16.043</td>\n",
       "      <td>239.315162</td>\n",
       "    </tr>\n",
       "    <tr>\n",
       "      <th>1</th>\n",
       "      <td>H3N</td>\n",
       "      <td>N</td>\n",
       "      <td>17.031</td>\n",
       "      <td>0.000000</td>\n",
       "    </tr>\n",
       "    <tr>\n",
       "      <th>2</th>\n",
       "      <td>H2O</td>\n",
       "      <td>O</td>\n",
       "      <td>18.015</td>\n",
       "      <td>0.000000</td>\n",
       "    </tr>\n",
       "    <tr>\n",
       "      <th>3</th>\n",
       "      <td>C2H2</td>\n",
       "      <td>C#C</td>\n",
       "      <td>26.038</td>\n",
       "      <td>246.164372</td>\n",
       "    </tr>\n",
       "    <tr>\n",
       "      <th>4</th>\n",
       "      <td>CHN</td>\n",
       "      <td>C#N</td>\n",
       "      <td>27.026</td>\n",
       "      <td>0.000000</td>\n",
       "    </tr>\n",
       "  </tbody>\n",
       "</table>\n",
       "</div>"
      ],
      "text/plain": [
       "  Fórmula Smiles  Massa Molar (g/mol)  Entalpia de Combustão (kcal/mol)\n",
       "0     CH4      C               16.043                        239.315162\n",
       "1     H3N      N               17.031                          0.000000\n",
       "2     H2O      O               18.015                          0.000000\n",
       "3    C2H2    C#C               26.038                        246.164372\n",
       "4     CHN    C#N               27.026                          0.000000"
      ]
     },
     "execution_count": 3,
     "metadata": {},
     "output_type": "execute_result"
    }
   ],
   "source": [
    "df.head(5)"
   ]
  },
  {
   "cell_type": "markdown",
   "id": "3866a5d4-0446-4387-ba93-6de2119a5704",
   "metadata": {},
   "source": [
    "### Normalizando dados"
   ]
  },
  {
   "cell_type": "code",
   "execution_count": 4,
   "id": "1c7410cb-4c9a-4dd3-83bd-ac18484df540",
   "metadata": {},
   "outputs": [],
   "source": [
    "df_treat = df[(df != 0.0000).all(axis=1)]"
   ]
  },
  {
   "cell_type": "code",
   "execution_count": 5,
   "id": "c0c0af0e-3a3f-4538-8a26-efa778c48989",
   "metadata": {},
   "outputs": [
    {
     "data": {
      "text/html": [
       "<div>\n",
       "<style scoped>\n",
       "    .dataframe tbody tr th:only-of-type {\n",
       "        vertical-align: middle;\n",
       "    }\n",
       "\n",
       "    .dataframe tbody tr th {\n",
       "        vertical-align: top;\n",
       "    }\n",
       "\n",
       "    .dataframe thead th {\n",
       "        text-align: right;\n",
       "    }\n",
       "</style>\n",
       "<table border=\"1\" class=\"dataframe\">\n",
       "  <thead>\n",
       "    <tr style=\"text-align: right;\">\n",
       "      <th></th>\n",
       "      <th>Fórmula</th>\n",
       "      <th>Smiles</th>\n",
       "      <th>Massa Molar (g/mol)</th>\n",
       "      <th>Entalpia de Combustão (kcal/mol)</th>\n",
       "      <th>Massa normalizada</th>\n",
       "      <th>Entalpia normalizada</th>\n",
       "    </tr>\n",
       "  </thead>\n",
       "  <tbody>\n",
       "    <tr>\n",
       "      <th>0</th>\n",
       "      <td>CH4</td>\n",
       "      <td>C</td>\n",
       "      <td>16.043</td>\n",
       "      <td>239.315162</td>\n",
       "      <td>0.000000</td>\n",
       "      <td>0.272445</td>\n",
       "    </tr>\n",
       "    <tr>\n",
       "      <th>3</th>\n",
       "      <td>C2H2</td>\n",
       "      <td>C#C</td>\n",
       "      <td>26.038</td>\n",
       "      <td>246.164372</td>\n",
       "      <td>0.083220</td>\n",
       "      <td>0.276705</td>\n",
       "    </tr>\n",
       "    <tr>\n",
       "      <th>5</th>\n",
       "      <td>CH2O</td>\n",
       "      <td>C=O</td>\n",
       "      <td>30.026</td>\n",
       "      <td>62.878915</td>\n",
       "      <td>0.116424</td>\n",
       "      <td>0.162707</td>\n",
       "    </tr>\n",
       "    <tr>\n",
       "      <th>6</th>\n",
       "      <td>C2H6</td>\n",
       "      <td>CC</td>\n",
       "      <td>30.070</td>\n",
       "      <td>385.639048</td>\n",
       "      <td>0.116790</td>\n",
       "      <td>0.363455</td>\n",
       "    </tr>\n",
       "    <tr>\n",
       "      <th>7</th>\n",
       "      <td>CH4O</td>\n",
       "      <td>CO</td>\n",
       "      <td>32.042</td>\n",
       "      <td>153.010001</td>\n",
       "      <td>0.133210</td>\n",
       "      <td>0.218766</td>\n",
       "    </tr>\n",
       "    <tr>\n",
       "      <th>...</th>\n",
       "      <td>...</td>\n",
       "      <td>...</td>\n",
       "      <td>...</td>\n",
       "      <td>...</td>\n",
       "      <td>...</td>\n",
       "      <td>...</td>\n",
       "    </tr>\n",
       "    <tr>\n",
       "      <th>1222</th>\n",
       "      <td>C4H6O3</td>\n",
       "      <td>CC(=O)COC=O</td>\n",
       "      <td>102.089</td>\n",
       "      <td>188.716382</td>\n",
       "      <td>0.716429</td>\n",
       "      <td>0.240974</td>\n",
       "    </tr>\n",
       "    <tr>\n",
       "      <th>1224</th>\n",
       "      <td>C4H6O3</td>\n",
       "      <td>CC(=O)OCC=O</td>\n",
       "      <td>102.089</td>\n",
       "      <td>185.494120</td>\n",
       "      <td>0.716429</td>\n",
       "      <td>0.238970</td>\n",
       "    </tr>\n",
       "    <tr>\n",
       "      <th>1232</th>\n",
       "      <td>C7H8</td>\n",
       "      <td>C#CC#CC(C)C</td>\n",
       "      <td>92.141</td>\n",
       "      <td>801.815053</td>\n",
       "      <td>0.633601</td>\n",
       "      <td>0.622304</td>\n",
       "    </tr>\n",
       "    <tr>\n",
       "      <th>1234</th>\n",
       "      <td>C6H6O</td>\n",
       "      <td>C#CC#CC(C)O</td>\n",
       "      <td>94.113</td>\n",
       "      <td>565.267209</td>\n",
       "      <td>0.650020</td>\n",
       "      <td>0.475178</td>\n",
       "    </tr>\n",
       "    <tr>\n",
       "      <th>1236</th>\n",
       "      <td>C6H8O</td>\n",
       "      <td>CC(C)C#CC=O</td>\n",
       "      <td>96.129</td>\n",
       "      <td>624.435089</td>\n",
       "      <td>0.666805</td>\n",
       "      <td>0.511979</td>\n",
       "    </tr>\n",
       "  </tbody>\n",
       "</table>\n",
       "<p>500 rows × 6 columns</p>\n",
       "</div>"
      ],
      "text/plain": [
       "     Fórmula       Smiles  Massa Molar (g/mol)  \\\n",
       "0        CH4            C               16.043   \n",
       "3       C2H2          C#C               26.038   \n",
       "5       CH2O          C=O               30.026   \n",
       "6       C2H6           CC               30.070   \n",
       "7       CH4O           CO               32.042   \n",
       "...      ...          ...                  ...   \n",
       "1222  C4H6O3  CC(=O)COC=O              102.089   \n",
       "1224  C4H6O3  CC(=O)OCC=O              102.089   \n",
       "1232    C7H8  C#CC#CC(C)C               92.141   \n",
       "1234   C6H6O  C#CC#CC(C)O               94.113   \n",
       "1236   C6H8O  CC(C)C#CC=O               96.129   \n",
       "\n",
       "      Entalpia de Combustão (kcal/mol)  Massa normalizada  \\\n",
       "0                           239.315162           0.000000   \n",
       "3                           246.164372           0.083220   \n",
       "5                            62.878915           0.116424   \n",
       "6                           385.639048           0.116790   \n",
       "7                           153.010001           0.133210   \n",
       "...                                ...                ...   \n",
       "1222                        188.716382           0.716429   \n",
       "1224                        185.494120           0.716429   \n",
       "1232                        801.815053           0.633601   \n",
       "1234                        565.267209           0.650020   \n",
       "1236                        624.435089           0.666805   \n",
       "\n",
       "      Entalpia normalizada  \n",
       "0                 0.272445  \n",
       "3                 0.276705  \n",
       "5                 0.162707  \n",
       "6                 0.363455  \n",
       "7                 0.218766  \n",
       "...                    ...  \n",
       "1222              0.240974  \n",
       "1224              0.238970  \n",
       "1232              0.622304  \n",
       "1234              0.475178  \n",
       "1236              0.511979  \n",
       "\n",
       "[500 rows x 6 columns]"
      ]
     },
     "execution_count": 5,
     "metadata": {},
     "output_type": "execute_result"
    }
   ],
   "source": [
    "df_treat_copy = df_treat.copy()\n",
    "\n",
    "for data in enumerate(df_treat_copy):\n",
    "    scaler = StandardScaler() # Define a escala padrão de normalização\n",
    "    #df_treat_copy[\"Massa normalizada\"] = scaler.fit_transform(df_treat_copy[[\"Massa Molar (g/mol)\"]]) # Normaliza os dados da massa\n",
    "    df_treat_copy[\"Massa normalizada\"] = (df_treat_copy.iloc[:, 2] - df_treat_copy.iloc[:, 2].min()) / (df_treat_copy.iloc[:, 2].max() - df_treat_copy.iloc[:, 2].min()) # Normaliza manualmente\n",
    "\n",
    "for data in enumerate(df_treat_copy):\n",
    "    scaler = StandardScaler() # Define a escala padrão de normalização\n",
    "    #df_treat_copy[\"Entalpia normalizada\"] = scaler.fit_transform(df_treat_copy[[\"Entalpia de Combustão (kcal/mol)\"]]) # Normaliza os dados da combustão\n",
    "    df_treat_copy[\"Entalpia normalizada\"] = (df_treat_copy.iloc[:, 3] - df_treat_copy.iloc[:, 3].min()) / (df_treat_copy.iloc[:, 3].max() - df_treat_copy.iloc[:, 3].min()) # Normaliza manualmente\n",
    "df_treat_copy.head(500)"
   ]
  },
  {
   "cell_type": "markdown",
   "id": "c6148f53-2d00-4854-b266-8e56ae2b2e28",
   "metadata": {},
   "source": [
    "### Funções Para algoritmo"
   ]
  },
  {
   "cell_type": "code",
   "execution_count": 6,
   "id": "39cd6351-7361-4b17-9a8a-3a4a44aa22d8",
   "metadata": {},
   "outputs": [],
   "source": [
    "def gene_combustivel():\n",
    "    \"\"\" Busca aleatória dentro da base de dados um combustivel\n",
    "    Retorna:\n",
    "        Um compsoto escolhido aleatóriamente pelo seu índice, nosso gene.\n",
    "    \"\"\"\n",
    "    #fazendo lista dos índices dos nossos compostos\n",
    "    lista_indices = df_treat_copy.index.tolist()\n",
    "    # Escolhendo um índice aleatório dentro da lista de índices\n",
    "    indice_aleatorio = random.choice(lista_indices)\n",
    "    # indica qual composto corresponde ao indice aleatório escolhido\n",
    "    # composto = df.loc[indice_aleatorio, 'Smiles']\n",
    "    composto = indice_aleatorio\n",
    "    return composto"
   ]
  },
  {
   "cell_type": "code",
   "execution_count": 7,
   "id": "14fb65c0-3df3-45d2-a324-c7e26fb09acc",
   "metadata": {},
   "outputs": [],
   "source": [
    "def individuo_combustivel():\n",
    "    \"\"\"Pega dois genes aleatóriamente.\n",
    "    Retorna:\n",
    "         Um alista com dois combustiveis\n",
    "    \"\"\"\n",
    "    individuo = []\n",
    "    for _ in range(2):\n",
    "        individuo.append(gene_combustivel())\n",
    "    return individuo"
   ]
  },
  {
   "cell_type": "code",
   "execution_count": 8,
   "id": "8850d2d0-5a3c-4a25-be1c-e02dfb671941",
   "metadata": {},
   "outputs": [],
   "source": [
    "def pop_posto(tamanho):\n",
    "    \"\"\"Agrupa os individuos para formar a população de dupla de combustíveis (posto)\n",
    "    Argumentos:\n",
    "        tamanho: tamanho da população, quantos individuos a compõe\n",
    "    Retorna:\n",
    "        população com número de individuos escolhidos\n",
    "    \"\"\"\n",
    "    posto = []\n",
    "    for _ in range(tamanho):\n",
    "        posto.append(individuo_combustivel())\n",
    "    return posto\n",
    "    "
   ]
  },
  {
   "cell_type": "code",
   "execution_count": 9,
   "id": "a1741393-d2ea-41e1-8bf3-30535033afba",
   "metadata": {},
   "outputs": [],
   "source": [
    "def selecao_combustivel(populacao, fitness):\n",
    "    \"\"\"Seleciona individuos de uma população usando o método da roleta.\n",
    "    Nota: apenas funciona para problemas de maximização.\n",
    "    Args:\n",
    "      populacao: lista com todos os individuos da população\n",
    "      fitness: lista com o valor da funcao objetivo dos individuos da população\n",
    "    Returns:\n",
    "      População dos indivíduos selecionados.\n",
    "    \"\"\"\n",
    "    populacao_selecionada = random.choices(\n",
    "        populacao, weights=fitness, k=len(populacao)\n",
    "    )\n",
    "    return populacao_selecionada"
   ]
  },
  {
   "cell_type": "code",
   "execution_count": 57,
   "id": "3a96e3c1-f23e-46f2-907f-94cdb4aebfad",
   "metadata": {},
   "outputs": [],
   "source": [
    "def obj_posto_avaliacao(individuo):\n",
    "    \"\"\" Calcular o fitness do individuo, usando uma função matemática\n",
    "    Argumentos:\n",
    "        individuo: lista com dois combustiveis selecionados aleatoriamente\n",
    "    Retorna:\n",
    "        O fitness de cada um indivíduo\n",
    "    \"\"\"\n",
    "    # separa os genes dentro do individuo, para avaliar separadamente\n",
    "    # pega os seus indices\n",
    "    comb1 = individuo[0]\n",
    "    comb2 = individuo[1]\n",
    "    # Pega a informação de entalpia de cada um dos combustiveis\n",
    "    Hc1 = df_treat_copy.loc[comb1, 'Entalpia normalizada']\n",
    "    Hc2 = df_treat_copy.loc[comb2, 'Entalpia normalizada']\n",
    "    #Hc = df.loc[individuo, 'Entalpia de Combustão (kcal/mol)']\n",
    "    # Pega a massa molar de cada um dos combustiveis\n",
    "    Mmol1 = df_treat_copy.loc[comb1, 'Massa Molar (g/mol)']\n",
    "    Mmol2 = df_treat_copy.loc[comb2, 'Massa Molar (g/mol)']\n",
    "    #Mmol = df.loc[individuo, 'Massa Molar (g/mol)']\n",
    "    \n",
    "    # Faz função afim para avaliar o valor da entalpia\n",
    "    y1 = 10000*Hc1\n",
    "    y2 = 10000*Hc2\n",
    "    # y = 2* Hc\n",
    "    \n",
    "    # Faz função para avaliar o valor da massa molar\n",
    "    g1 = -100*Mmol1\n",
    "    g2 = 40*Mmol2\n",
    "    #g = 1/Mmol\n",
    "    \n",
    "    # junta essas informações\n",
    "    fitness = y1+g1+y2+g2\n",
    "    #fitness = (y1/Mmol1)+(y2/Mmol2)\n",
    "    return fitness"
   ]
  },
  {
   "cell_type": "code",
   "execution_count": 11,
   "id": "57e2273c-e4ae-4075-a493-c62cf2598dba",
   "metadata": {},
   "outputs": [],
   "source": [
    "def func_obj_pop_posto(populacao):\n",
    "    \"\"\"Calcula a funcao objetivo para todos os membros de uma população\n",
    "    Args:\n",
    "      populacao: lista com todos os individuos da população\n",
    "    Return:\n",
    "      Lista de valores represestando a fitness de cada individuo da população.\n",
    "    \"\"\"\n",
    "    fitness = []\n",
    "    for individuo in populacao:\n",
    "        fobj = obj_posto_avaliacao(individuo)\n",
    "        fitness.append(fobj)\n",
    "    return fitness"
   ]
  },
  {
   "cell_type": "code",
   "execution_count": 12,
   "id": "32f9bc11-8f2d-45ed-9435-141fde97c37d",
   "metadata": {},
   "outputs": [],
   "source": [
    "def mutacao_posto(individuo):\n",
    "    \"\"\"Muda o individuo \n",
    "    \"\"\"\n",
    "    gene_a_ser_mutado = random.randint(0, len(individuo) - 1)\n",
    "    individuo[gene_a_ser_mutado] = gene_combustivel()\n",
    "    \n",
    "    return individuo"
   ]
  },
  {
   "cell_type": "code",
   "execution_count": 13,
   "id": "9102eb27-66a4-44cd-ab31-074770eeb784",
   "metadata": {},
   "outputs": [],
   "source": [
    "def cruzamento_posto(pai, mae):\n",
    "    \"\"\"Operador de cruzamento de ponto simples.\n",
    "\n",
    "    Args:\n",
    "      pai: uma lista representando um individuo\n",
    "      mae : uma lista representando um individuo\n",
    "\n",
    "    Returns:\n",
    "      Duas listas, sendo que cada uma representa um filho dos pais que foram os\n",
    "      argumentos.\n",
    "    \"\"\"\n",
    "    ponto_de_corte = random.randint(1, len(pai) - 1)\n",
    "\n",
    "    filho1 = pai[:ponto_de_corte] + mae[ponto_de_corte:]\n",
    "    filho2 = mae[:ponto_de_corte] + pai[ponto_de_corte:]\n",
    "\n",
    "    return filho1, filho2"
   ]
  },
  {
   "cell_type": "code",
   "execution_count": 55,
   "id": "99036222-c20e-4441-a471-1597ecb44ba2",
   "metadata": {},
   "outputs": [],
   "source": [
    "### CONSTANTES\n",
    "\n",
    "# relacionadas à busca\n",
    "TAMANHO_POP = 100\n",
    "NUM_GERACOES = 200\n",
    "CHANCE_MUTACAO = 0.05\n",
    "CHANCE_CRUZAMENTO = 0.5"
   ]
  },
  {
   "cell_type": "code",
   "execution_count": 15,
   "id": "c14c3222-e483-4867-b40d-fd708aba6ece",
   "metadata": {},
   "outputs": [],
   "source": [
    "# função local\n",
    "def cria_populacao_inicial(TAMANHO_POP):\n",
    "    return pop_posto(TAMANHO_POP)\n",
    "def funcao_objetivo_pop(populacao):\n",
    "    return func_obj_pop_posto(populacao)\n",
    "def funcao_objetivo_individuos():\n",
    "    pass\n",
    "def funcao_selecao(populacao, fitness):\n",
    "    return selecao_combustivel(populacao, fitness)\n",
    "def funcao_mutacao(individuo):\n",
    "    return mutacao_posto(individuo)\n",
    "def funcao_cruzamento(pai, mae):\n",
    "    return cruzamento_posto(pai, mae)"
   ]
  },
  {
   "cell_type": "markdown",
   "id": "54bfece5-1a69-4be7-b9eb-c2966f3cbca8",
   "metadata": {},
   "source": [
    "Algoritmo genético"
   ]
  },
  {
   "cell_type": "code",
   "execution_count": 60,
   "id": "a71afe37-14c0-4775-b4a9-9feda3a58053",
   "metadata": {},
   "outputs": [
    {
     "name": "stdout",
     "output_type": "stream",
     "text": [
      "[[57400, 36900], [92238, 101820], [57400, 101820], [57400, 108636], [5810, 101820], [2678, 120479]]\n",
      "\n",
      "[57400, 36900] 57400 CC(C)(C)C1C2CC1C2 1271.694128 124.227\n",
      "\n",
      "[57400, 36900] 36900 C1OC1CC1CC2CC12 942.183874 124.183\n",
      "\n",
      "[92238, 101820] 92238 CC1CC2CC3CCC132 1173.815808 122.211\n",
      "\n",
      "[92238, 101820] 101820 CCC(O)CCC(C)C 1158.455685 130.231\n",
      "\n",
      "[57400, 101820] 57400 CC(C)(C)C1C2CC1C2 1271.694128 124.227\n",
      "\n",
      "[57400, 101820] 101820 CCC(O)CCC(C)C 1158.455685 130.231\n",
      "\n",
      "[57400, 108636] 57400 CC(C)(C)C1C2CC1C2 1271.694128 124.227\n",
      "\n",
      "[57400, 108636] 108636 CCC1=C(C)CC(C)C1 1216.382922 124.227\n",
      "\n",
      "[5810, 101820] 5810 CC(C)(C)C(C)(C)C 1259.195448 114.232\n",
      "\n",
      "[5810, 101820] 101820 CCC(O)CCC(C)C 1158.455685 130.231\n",
      "\n",
      "[2678, 120479] 2678 CCC#CCCC 955.489017 96.173\n",
      "\n",
      "[2678, 120479] 120479 CCCC1CC(C)C1C 1322.961662 126.243\n",
      "\n"
     ]
    }
   ],
   "source": [
    "# Busca por algoritmo genético\n",
    "\n",
    "populacao = cria_populacao_inicial(TAMANHO_POP)\n",
    "\n",
    "# variaveis para o hall da fama\n",
    "melhor_fitness_ja_visto = -float(\"inf\")\n",
    "melhor_individuo_ja_visto = 0\n",
    "hall_da_fama = []\n",
    "\n",
    "for n in range(NUM_GERACOES):\n",
    "\n",
    "    # Seleção\n",
    "    fitness = funcao_objetivo_pop(populacao)\n",
    "    populacao = funcao_selecao(populacao, fitness)\n",
    "    \n",
    "    # Cruzamento\n",
    "    pais = populacao[0::2]\n",
    "    maes = populacao[1::2]\n",
    "\n",
    "    contador = 0\n",
    "\n",
    "    for pai, mae in zip(pais, maes):\n",
    "        if random.random() <= CHANCE_CRUZAMENTO:\n",
    "            filho1, filho2 = funcao_cruzamento(pai, mae)\n",
    "            populacao[contador] = filho1\n",
    "            populacao[contador + 1] = filho2\n",
    "\n",
    "        contador = contador + 2\n",
    "\n",
    "    # Mutação\n",
    "    for n in range(len(populacao)):\n",
    "        if random.random() <= CHANCE_MUTACAO:\n",
    "            individuo = populacao[n]\n",
    "            populacao[n] = funcao_mutacao(individuo)\n",
    "\n",
    "    # melhor individuo já visto até agora (hall da fama)\n",
    "    fitness = funcao_objetivo_pop(populacao)\n",
    "    maior_fitness = max(fitness)\n",
    "    posicao = fitness.index(maior_fitness)\n",
    "    individuo = populacao[posicao].copy()\n",
    "    \n",
    "    if maior_fitness > melhor_fitness_ja_visto:\n",
    "        melhor_fitness_ja_visto = maior_fitness\n",
    "        melhor_individuo_ja_visto = individuo\n",
    "        #composto = df.loc[melhor_individuo_ja_visto, 'Smiles']\n",
    "        #entalpia = df.loc[melhor_individuo_ja_visto, 'Entalpia de Combustão (kcal/mol)']\n",
    "        #massa = df.loc[melhor_individuo_ja_visto, 'Massa Molar (g/mol)']\n",
    "        #print(melhor_individuo_ja_visto)\n",
    "        hall_da_fama.append(melhor_individuo_ja_visto)\n",
    "        #print(f\"Os melhores combustiveis {composto}\")\n",
    "        #print()\n",
    "        #print(f' massa = {massa} ')\n",
    "        #print()\n",
    "        #print(f' entalpia = {entalpia}')\n",
    "        \n",
    "print(hall_da_fama)\n",
    "print()\n",
    "\n",
    "for i in hall_da_fama:\n",
    "    for j in range(2):\n",
    "        mol = i[j]\n",
    "        composto = df_treat_copy.loc[mol, 'Smiles']\n",
    "        entalpia = df_treat_copy.loc[mol, 'Entalpia de Combustão (kcal/mol)']\n",
    "        massa = df_treat_copy.loc[mol, 'Massa Molar (g/mol)']\n",
    "        print(i, mol, composto, entalpia, massa)\n",
    "        print()"
   ]
  },
  {
   "cell_type": "code",
   "execution_count": 32,
   "id": "08402537-1632-4b66-9f59-befae6e81267",
   "metadata": {},
   "outputs": [
    {
     "data": {
      "text/plain": [
       "136.147"
      ]
     },
     "execution_count": 32,
     "metadata": {},
     "output_type": "execute_result"
    }
   ],
   "source": [
    "df_treat_copy.iloc[:, 2].max()"
   ]
  },
  {
   "cell_type": "code",
   "execution_count": 33,
   "id": "75effd41-a15a-4897-9e4f-5a96de6f859b",
   "metadata": {},
   "outputs": [
    {
     "data": {
      "text/plain": [
       "16.043"
      ]
     },
     "execution_count": 33,
     "metadata": {},
     "output_type": "execute_result"
    }
   ],
   "source": [
    "df_treat_copy.iloc[:, 2].min()"
   ]
  },
  {
   "cell_type": "code",
   "execution_count": 34,
   "id": "b47c0f30-c5f5-4e3e-941c-58d0b66a9ca7",
   "metadata": {},
   "outputs": [
    {
     "data": {
      "text/plain": [
       "1409.070412"
      ]
     },
     "execution_count": 34,
     "metadata": {},
     "output_type": "execute_result"
    }
   ],
   "source": [
    "df_treat_copy.iloc[:, 3].max()"
   ]
  },
  {
   "cell_type": "code",
   "execution_count": 36,
   "id": "526544b5-2d29-49e7-bafe-9ba46c232da9",
   "metadata": {},
   "outputs": [
    {
     "data": {
      "text/plain": [
       "-198.719967"
      ]
     },
     "execution_count": 36,
     "metadata": {},
     "output_type": "execute_result"
    }
   ],
   "source": [
    "df_treat_copy.iloc[:, 3].min()"
   ]
  },
  {
   "cell_type": "code",
   "execution_count": null,
   "id": "6eb3a2d0-f714-4432-9af5-1ddb77f6ab54",
   "metadata": {},
   "outputs": [],
   "source": []
  }
 ],
 "metadata": {
  "kernelspec": {
   "display_name": "ilumpy",
   "language": "python",
   "name": "ilumpy"
  },
  "language_info": {
   "codemirror_mode": {
    "name": "ipython",
    "version": 3
   },
   "file_extension": ".py",
   "mimetype": "text/x-python",
   "name": "python",
   "nbconvert_exporter": "python",
   "pygments_lexer": "ipython3",
   "version": "3.9.7"
  }
 },
 "nbformat": 4,
 "nbformat_minor": 5
}
